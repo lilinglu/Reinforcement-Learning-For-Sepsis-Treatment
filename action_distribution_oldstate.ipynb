{
 "cells": [
  {
   "cell_type": "code",
   "execution_count": 6,
   "id": "403faae6",
   "metadata": {},
   "outputs": [
    {
     "name": "stderr",
     "output_type": "stream",
     "text": [
      "C:\\Users\\lulil\\Desktop\\fastbook\\myenv\\lib\\site-packages\\ipykernel_launcher.py:108: SettingWithCopyWarning: \n",
      "A value is trying to be set on a copy of a slice from a DataFrame.\n",
      "Try using .loc[row_indexer,col_indexer] = value instead\n",
      "\n",
      "See the caveats in the documentation: https://pandas.pydata.org/pandas-docs/stable/user_guide/indexing.html#returning-a-view-versus-a-copy\n",
      "C:\\Users\\lulil\\Desktop\\fastbook\\myenv\\lib\\site-packages\\ipykernel_launcher.py:109: SettingWithCopyWarning: \n",
      "A value is trying to be set on a copy of a slice from a DataFrame.\n",
      "Try using .loc[row_indexer,col_indexer] = value instead\n",
      "\n",
      "See the caveats in the documentation: https://pandas.pydata.org/pandas-docs/stable/user_guide/indexing.html#returning-a-view-versus-a-copy\n",
      "C:\\Users\\lulil\\Desktop\\fastbook\\myenv\\lib\\site-packages\\ipykernel_launcher.py:110: SettingWithCopyWarning: \n",
      "A value is trying to be set on a copy of a slice from a DataFrame.\n",
      "Try using .loc[row_indexer,col_indexer] = value instead\n",
      "\n",
      "See the caveats in the documentation: https://pandas.pydata.org/pandas-docs/stable/user_guide/indexing.html#returning-a-view-versus-a-copy\n",
      "C:\\Users\\lulil\\Desktop\\fastbook\\myenv\\lib\\site-packages\\ipykernel_launcher.py:111: SettingWithCopyWarning: \n",
      "A value is trying to be set on a copy of a slice from a DataFrame.\n",
      "Try using .loc[row_indexer,col_indexer] = value instead\n",
      "\n",
      "See the caveats in the documentation: https://pandas.pydata.org/pandas-docs/stable/user_guide/indexing.html#returning-a-view-versus-a-copy\n",
      "C:\\Users\\lulil\\Desktop\\fastbook\\myenv\\lib\\site-packages\\ipykernel_launcher.py:112: SettingWithCopyWarning: \n",
      "A value is trying to be set on a copy of a slice from a DataFrame.\n",
      "Try using .loc[row_indexer,col_indexer] = value instead\n",
      "\n",
      "See the caveats in the documentation: https://pandas.pydata.org/pandas-docs/stable/user_guide/indexing.html#returning-a-view-versus-a-copy\n",
      "C:\\Users\\lulil\\Desktop\\fastbook\\myenv\\lib\\site-packages\\ipykernel_launcher.py:113: SettingWithCopyWarning: \n",
      "A value is trying to be set on a copy of a slice from a DataFrame.\n",
      "Try using .loc[row_indexer,col_indexer] = value instead\n",
      "\n",
      "See the caveats in the documentation: https://pandas.pydata.org/pandas-docs/stable/user_guide/indexing.html#returning-a-view-versus-a-copy\n",
      "C:\\Users\\lulil\\Desktop\\fastbook\\myenv\\lib\\site-packages\\ipykernel_launcher.py:122: SettingWithCopyWarning: \n",
      "A value is trying to be set on a copy of a slice from a DataFrame.\n",
      "Try using .loc[row_indexer,col_indexer] = value instead\n",
      "\n",
      "See the caveats in the documentation: https://pandas.pydata.org/pandas-docs/stable/user_guide/indexing.html#returning-a-view-versus-a-copy\n",
      "C:\\Users\\lulil\\Desktop\\fastbook\\myenv\\lib\\site-packages\\ipykernel_launcher.py:123: SettingWithCopyWarning: \n",
      "A value is trying to be set on a copy of a slice from a DataFrame\n",
      "\n",
      "See the caveats in the documentation: https://pandas.pydata.org/pandas-docs/stable/user_guide/indexing.html#returning-a-view-versus-a-copy\n",
      "C:\\Users\\lulil\\Desktop\\fastbook\\myenv\\lib\\site-packages\\pandas\\core\\generic.py:8870: SettingWithCopyWarning: \n",
      "A value is trying to be set on a copy of a slice from a DataFrame\n",
      "\n",
      "See the caveats in the documentation: https://pandas.pydata.org/pandas-docs/stable/user_guide/indexing.html#returning-a-view-versus-a-copy\n",
      "  return self._update_inplace(result)\n",
      "C:\\Users\\lulil\\Desktop\\fastbook\\myenv\\lib\\site-packages\\ipykernel_launcher.py:124: SettingWithCopyWarning: \n",
      "A value is trying to be set on a copy of a slice from a DataFrame\n",
      "\n",
      "See the caveats in the documentation: https://pandas.pydata.org/pandas-docs/stable/user_guide/indexing.html#returning-a-view-versus-a-copy\n",
      "C:\\Users\\lulil\\Desktop\\fastbook\\myenv\\lib\\site-packages\\ipykernel_launcher.py:125: SettingWithCopyWarning: \n",
      "A value is trying to be set on a copy of a slice from a DataFrame\n",
      "\n",
      "See the caveats in the documentation: https://pandas.pydata.org/pandas-docs/stable/user_guide/indexing.html#returning-a-view-versus-a-copy\n",
      "C:\\Users\\lulil\\Desktop\\fastbook\\myenv\\lib\\site-packages\\ipykernel_launcher.py:126: SettingWithCopyWarning: \n",
      "A value is trying to be set on a copy of a slice from a DataFrame\n",
      "\n",
      "See the caveats in the documentation: https://pandas.pydata.org/pandas-docs/stable/user_guide/indexing.html#returning-a-view-versus-a-copy\n",
      "C:\\Users\\lulil\\Desktop\\fastbook\\myenv\\lib\\site-packages\\ipykernel_launcher.py:127: SettingWithCopyWarning: \n",
      "A value is trying to be set on a copy of a slice from a DataFrame\n",
      "\n",
      "See the caveats in the documentation: https://pandas.pydata.org/pandas-docs/stable/user_guide/indexing.html#returning-a-view-versus-a-copy\n",
      "C:\\Users\\lulil\\Desktop\\fastbook\\myenv\\lib\\site-packages\\ipykernel_launcher.py:133: SettingWithCopyWarning: \n",
      "A value is trying to be set on a copy of a slice from a DataFrame\n",
      "\n",
      "See the caveats in the documentation: https://pandas.pydata.org/pandas-docs/stable/user_guide/indexing.html#returning-a-view-versus-a-copy\n",
      "C:\\Users\\lulil\\Desktop\\fastbook\\myenv\\lib\\site-packages\\ipykernel_launcher.py:134: SettingWithCopyWarning: \n",
      "A value is trying to be set on a copy of a slice from a DataFrame\n",
      "\n",
      "See the caveats in the documentation: https://pandas.pydata.org/pandas-docs/stable/user_guide/indexing.html#returning-a-view-versus-a-copy\n",
      "C:\\Users\\lulil\\Desktop\\fastbook\\myenv\\lib\\site-packages\\ipykernel_launcher.py:135: SettingWithCopyWarning: \n",
      "A value is trying to be set on a copy of a slice from a DataFrame\n",
      "\n",
      "See the caveats in the documentation: https://pandas.pydata.org/pandas-docs/stable/user_guide/indexing.html#returning-a-view-versus-a-copy\n",
      "C:\\Users\\lulil\\Desktop\\fastbook\\myenv\\lib\\site-packages\\ipykernel_launcher.py:136: SettingWithCopyWarning: \n",
      "A value is trying to be set on a copy of a slice from a DataFrame\n",
      "\n",
      "See the caveats in the documentation: https://pandas.pydata.org/pandas-docs/stable/user_guide/indexing.html#returning-a-view-versus-a-copy\n",
      "C:\\Users\\lulil\\Desktop\\fastbook\\myenv\\lib\\site-packages\\ipykernel_launcher.py:137: SettingWithCopyWarning: \n",
      "A value is trying to be set on a copy of a slice from a DataFrame\n",
      "\n",
      "See the caveats in the documentation: https://pandas.pydata.org/pandas-docs/stable/user_guide/indexing.html#returning-a-view-versus-a-copy\n"
     ]
    }
   ],
   "source": [
    "#%matplotlib inline\n",
    "import numpy as np\n",
    "import pandas as pd\n",
    "import matplotlib.pyplot as plt\n",
    "import copy\n",
    "from pandas import DataFrame\n",
    "import copy\n",
    "import random\n",
    "\n",
    "ai_p = pd.read_csv(r\"data_noshuffle\\ai_p_opt.csv\")\n",
    "clin_p = pd.read_csv(r\"data\\clin_p_old.csv\")\n",
    "intm1_p = pd.read_csv(r\"data_noshuffle\\intm1_opt.csv\")\n",
    "intm2_p = pd.read_csv(r\"data_noshuffle\\intm2_opt.csv\")\n",
    "intm3_p = pd.read_csv(r\"data_noshuffle\\intm3_opt.csv\")\n",
    "vaso1_p = pd.read_csv(r\"data_noshuffle\\vaso1_opt.csv\")\n",
    "vaso2_p = pd.read_csv(r\"data_noshuffle\\vaso2_opt.csv\")\n",
    "vaso3_p = pd.read_csv(r\"data_noshuffle\\vaso3_opt.csv\")\n",
    "ai_p.columns = ['state',1,2,3,4,5,6,7,8,9,10,11,12,13,14,15,16,17,18,19,20,21,22,23,24,25,\"ai_action\"]\n",
    "intm1_p.columns = ['state',1,2,3,4,5,6,7,8,9,10,11,12,13,14,15,16,17,18,19,20,21,22,23,24,25,\"ai_action\"]\n",
    "intm2_p.columns = ['state',1,2,3,4,5,6,7,8,9,10,11,12,13,14,15,16,17,18,19,20,21,22,23,24,25,\"ai_action\"]\n",
    "intm3_p.columns = ['state',1,2,3,4,5,6,7,8,9,10,11,12,13,14,15,16,17,18,19,20,21,22,23,24,25,\"ai_action\"]\n",
    "vaso1_p.columns = ['state',1,2,3,4,5,6,7,8,9,10,11,12,13,14,15,16,17,18,19,20,21,22,23,24,25,\"ai_action\"]\n",
    "vaso2_p.columns = ['state',1,2,3,4,5,6,7,8,9,10,11,12,13,14,15,16,17,18,19,20,21,22,23,24,25,\"ai_action\"]\n",
    "vaso3_p.columns = ['state',1,2,3,4,5,6,7,8,9,10,11,12,13,14,15,16,17,18,19,20,21,22,23,24,25,\"ai_action\"]\n",
    "test_ids = pd.read_csv(r\"D:\\Liling\\OneDrive - University of Pittsburgh\\master_thesis\\q_learning_discrete_state\\data\\test_id.csv\")\n",
    "data_all = pd.read_csv(r\"data\\data_cont_vaso_reward.csv\")\n",
    "data_change_noscale = pd.read_csv(r\"D:\\Liling\\OneDrive - University of Pittsburgh\\master_thesis\\rl_v1\\data\\data_all.csv\")\n",
    "\n",
    "#data = data_all[data_all.last_record == 0]\n",
    "data_all['fluid'] = data_change_noscale.fluid.tolist()\n",
    "data = copy.deepcopy(data_all)\n",
    "test_df = data[data.hosp_id.isin (test_ids['hosp_id'].tolist())]\n",
    "\n",
    "test_data = test_df[['hosp_id','interval','fluid', 'norepi_equiv', 'action', 'dead_90',\\\n",
    "                     'reward_orig','reward_intm1','reward_intm2','state',\\\n",
    "                    'reward_vaso','last_record']]\n",
    "\n",
    "random.seed(42)\n",
    "ai_p_test = copy.deepcopy(test_data)\n",
    "\n",
    "ai_p_test = ai_p_test.merge(ai_p,how='left',on='state')\n",
    "ai_p_test = ai_p_test.drop(columns=[1,2,3,4,5,6,7,8,9,10,11,12,13,14,15,16,17,18,19,20,21,22,23,24,25])\n",
    "#\n",
    "for i in ai_p_test.index:\n",
    "  rand = np.random.uniform(0,1)\n",
    "  if rand <0.1:\n",
    "    ai_p_test.loc[i,\"ai_action\"] = random.randint(1,25)\n",
    "  \n",
    "intm1_p_test = copy.deepcopy(test_data)\n",
    "\n",
    "intm1_p_test = intm1_p_test.merge(intm1_p,how='left',on='state')\n",
    "intm1_p_test = intm1_p_test.drop(columns=[1,2,3,4,5,6,7,8,9,10,11,12,13,14,15,16,17,18,19,20,21,22,23,24,25])\n",
    "for i in intm1_p_test.index:\n",
    "  rand = np.random.uniform(0,1)\n",
    "  if rand <0.1:\n",
    "    intm1_p_test.loc[i,\"ai_action\"] = random.randint(1,25)\n",
    "  \n",
    "\n",
    "intm2_p_test = copy.deepcopy(test_data)\n",
    "\n",
    "intm2_p_test = intm2_p_test.merge(intm2_p,how='left',on='state')\n",
    "intm2_p_test = intm2_p_test.drop(columns=[1,2,3,4,5,6,7,8,9,10,11,12,13,14,15,16,17,18,19,20,21,22,23,24,25])\n",
    "for i in intm2_p_test.index:\n",
    "  rand = np.random.uniform(0,1)\n",
    "  if rand <0.1:\n",
    "    intm2_p_test.loc[i,\"ai_action\"] = random.randint(1,25)\n",
    "  \n",
    "intm3_p_test = copy.deepcopy(test_data)\n",
    "\n",
    "intm3_p_test = intm3_p_test.merge(intm3_p,how='left',on='state')\n",
    "intm3_p_test = intm3_p_test.drop(columns=[1,2,3,4,5,6,7,8,9,10,11,12,13,14,15,16,17,18,19,20,21,22,23,24,25])\n",
    "for i in intm3_p_test.index:\n",
    "  rand = np.random.uniform(0,1)\n",
    "  if rand <0.1:\n",
    "    intm3_p_test.loc[i,\"ai_action\"] = random.randint(1,25)\n",
    "  \n",
    "\n",
    "vaso1_p_test = copy.deepcopy(test_data)\n",
    "\n",
    "vaso1_p_test = vaso1_p_test.merge(vaso1_p,how='left',on='state')\n",
    "vaso1_p_test = vaso1_p_test.drop(columns=[1,2,3,4,5,6,7,8,9,10,11,12,13,14,15,16,17,18,19,20,21,22,23,24,25])\n",
    "for i in vaso1_p_test.index:\n",
    "  rand = np.random.uniform(0,1)\n",
    "  if rand <0.1:\n",
    "    vaso1_p_test.loc[i,\"ai_action\"] = random.randint(1,25)\n",
    "  \n",
    "vaso2_p_test = copy.deepcopy(test_data)\n",
    "\n",
    "vaso2_p_test = vaso2_p_test.merge(vaso2_p,how='left',on='state')\n",
    "vaso2_p_test = vaso2_p_test.drop(columns=[1,2,3,4,5,6,7,8,9,10,11,12,13,14,15,16,17,18,19,20,21,22,23,24,25])\n",
    "for i in vaso2_p_test.index:\n",
    "  rand = np.random.uniform(0,1)\n",
    "  if rand <0.1:\n",
    "    vaso2_p_test.loc[i,\"ai_action\"] = random.randint(1,25)\n",
    "\n",
    "    \n",
    "vaso3_p_test = copy.deepcopy(test_data)\n",
    "\n",
    "vaso3_p_test = vaso3_p_test.merge(vaso3_p,how='left',on='state')\n",
    "vaso3_p_test = vaso3_p_test.drop(columns=[1,2,3,4,5,6,7,8,9,10,11,12,13,14,15,16,17,18,19,20,21,22,23,24,25])\n",
    "for i in vaso3_p_test.index:\n",
    "  rand = np.random.uniform(0,1)\n",
    "  if rand <0.1:\n",
    "    vaso3_p_test.loc[i,\"ai_action\"] = random.randint(1,25)\n",
    "    \n",
    "df_action = ai_p_test[['hosp_id','action','ai_action','norepi_equiv','fluid']]\n",
    "\n",
    "df_action['intm1_action'] = intm1_p_test.ai_action\n",
    "df_action['intm2_action'] = intm2_p_test.ai_action\n",
    "df_action['intm3_action'] = intm3_p_test.ai_action\n",
    "df_action['vaso1_action'] = vaso1_p_test.ai_action\n",
    "df_action['vaso2_action'] = vaso2_p_test.ai_action\n",
    "df_action['vaso3_action'] = vaso3_p_test.ai_action\n",
    "action_map = {}\n",
    "count = 0\n",
    "for iv in range(5):\n",
    "    for vaso in range(5):\n",
    "        action_map[(iv,vaso)] = count\n",
    "        count += 1\n",
    "\n",
    "#vaso_df['vaso_input'] = discretised_int['max_dose_vaso']\n",
    "df_action['vaso']=0\n",
    "df_action['vaso'][(df_action['norepi_equiv'] > 0.5)] = 4\n",
    "df_action['vaso'][(df_action['norepi_equiv'] > 0.2) & (df_action['norepi_equiv'] <= 0.5)] = 3\n",
    "df_action['vaso'][(df_action['norepi_equiv'] > 0.09) & (df_action['norepi_equiv'] <= 0.2)] = 2\n",
    "df_action['vaso'][(df_action['norepi_equiv'] > 0.0) & (df_action['norepi_equiv'] <= 0.09)] = 1\n",
    "df_action['vaso'][df_action['norepi_equiv'] == 0.0] = 0\n",
    "\n",
    "\n",
    "\n",
    "#vaso_df['vaso_input'] = discretised_int['max_dose_vaso']\n",
    "df_action['iv']=0\n",
    "df_action['iv'][df_action['fluid'] == 0.0] = 0\n",
    "df_action['iv'][(df_action['fluid'] > 0.0) & (df_action['fluid'] <= 250)] = 1\n",
    "df_action['iv'][(df_action['fluid'] > 250) & (df_action['fluid'] <= 400)] = 2\n",
    "df_action['iv'][(df_action['fluid'] > 400) & (df_action['fluid'] <= 700)] = 3\n",
    "df_action['iv'][(df_action['fluid'] > 700)] = 4"
   ]
  },
  {
   "cell_type": "code",
   "execution_count": 31,
   "id": "91da2807",
   "metadata": {},
   "outputs": [],
   "source": [
    "df_action.to_csv(r\"data_noshuffle\\df_action_lastversion.csv\")"
   ]
  },
  {
   "cell_type": "code",
   "execution_count": 8,
   "id": "5ff1aa16",
   "metadata": {},
   "outputs": [],
   "source": [
    "inv_action_map = {}\n",
    "count = 1\n",
    "for i in range(5):\n",
    "    for j in range(5):\n",
    "        inv_action_map[count] = [i,j]\n",
    "        count += 1\n",
    "\n",
    "\n",
    "df_action[\"ai_action\"] = df_action['ai_action'].astype(int)\n",
    "df_action[\"action\"] = df_action['action'].astype(int)\n",
    "\n",
    "ai_test_actions = np.array([inv_action_map[i] for i in df_action.ai_action.tolist()])\n",
    "intm1_test_actions = np.array([inv_action_map[i] for i in df_action.intm1_action.tolist()])\n",
    "intm2_test_actions = np.array([inv_action_map[i] for i in df_action.intm2_action.tolist()])\n",
    "intm3_test_actions = np.array([inv_action_map[i] for i in df_action.intm3_action.tolist()])\n",
    "vaso1_test_actions = np.array([inv_action_map[i] for i in df_action.vaso1_action.tolist()])\n",
    "vaso2_test_actions = np.array([inv_action_map[i] for i in df_action.vaso2_action.tolist()])\n",
    "vaso3_test_actions = np.array([inv_action_map[i] for i in df_action.vaso3_action.tolist()])\n",
    "clin_test_actions = np.array([inv_action_map[i] for i in df_action.action.tolist()])\n",
    "\n",
    "df_action['vaso_ai']=ai_test_actions[:,1]\n",
    "#df_action['vaso_p15']=test_actions_p15[:,1]\n",
    "df_action['vaso_intm1']=intm1_test_actions[:,1]\n",
    "\n",
    "df_action['vaso_intm2']=intm2_test_actions[:,1]\n",
    "df_action['vaso_intm3']=intm3_test_actions[:,1]\n",
    "df_action['vaso_vaso1']=vaso1_test_actions[:,1]\n",
    "df_action['vaso_vaso2']=vaso2_test_actions[:,1]\n",
    "df_action['vaso_vaso3']=vaso3_test_actions[:,1]\n",
    "df_action['vaso_clin']=clin_test_actions[:,1]\n",
    "\n",
    "df_action['iv_ai']=ai_test_actions[:,0]\n",
    "#df_action['iv_p15']=test_actions_p15[:,0]\n",
    "df_action['iv_intm1']=intm1_test_actions[:,0]\n",
    "\n",
    "df_action['iv_intm2']=intm2_test_actions[:,0]\n",
    "df_action['iv_intm3']=intm3_test_actions[:,0]\n",
    "\n",
    "df_action['iv_vaso1']=vaso1_test_actions[:,0]\n",
    "df_action['iv_vaso2']=vaso2_test_actions[:,0]\n",
    "df_action['iv_vaso3']=vaso3_test_actions[:,0]\n",
    "df_action['iv_clin']=clin_test_actions[:,0]"
   ]
  },
  {
   "cell_type": "code",
   "execution_count": 9,
   "id": "b5d612c5",
   "metadata": {},
   "outputs": [
    {
     "data": {
      "image/png": "[encoded data removed]",
      "text/plain": [
       "<Figure size 576x576 with 1 Axes>"
      ]
     },
     "metadata": {
      "needs_background": "light"
     },
     "output_type": "display_data"
    }
   ],
   "source": [
    "import matplotlib\n",
    "import matplotlib.pyplot as plt\n",
    "import numpy as np\n",
    "\n",
    "#plt.figure(figsize=(10, 10))\n",
    "\n",
    "labels = ['0', '0-250', '250-400', '400-750', '>750']\n",
    "iv=df_action.iv.value_counts().sort_index().tolist()\n",
    "iv_ai=df_action.iv_ai.value_counts().sort_index().tolist()\n",
    "iv_intm1=df_action.iv_intm1.value_counts().sort_index().tolist()\n",
    "iv_intm2=df_action.iv_intm2.value_counts().sort_index().tolist()\n",
    "iv_intm3=df_action.iv_intm3.value_counts().sort_index().tolist()\n",
    "iv_vaso1=df_action.iv_vaso1.value_counts().sort_index().tolist()\n",
    "iv_vaso2=df_action.iv_vaso2.value_counts().sort_index().tolist()\n",
    "iv_vaso3=df_action.iv_vaso3.value_counts().sort_index().tolist()\n",
    "\n",
    "x = np.arange(len(labels))  # the label locations\n",
    "width = 0.1  # the width of the bars\n",
    "\n",
    "fig, ax = plt.subplots(figsize=(8, 8))\n",
    "rects1 = ax.bar(x - width*4, iv, width, label='Clinician')\n",
    "rects2 = ax.bar(x - width*3, iv_ai, width, label='AI')\n",
    "rects3 = ax.bar(x - width*2, iv_intm1, width, label='AI_intm1')\n",
    "rects4 = ax.bar(x - width, iv_intm2, width, label='AI_intm2')\n",
    "rects4 = ax.bar(x, iv_intm3, width, label='AI_intm3')\n",
    "rects5 = ax.bar(x + width, iv_vaso3, width, label='AI_vaso1')\n",
    "rects4 = ax.bar(x + width*2, iv_vaso2, width, label='AI_vaso2')\n",
    "rects5 = ax.bar(x + width*3, iv_vaso1, width, label='AI_vaso3')\n",
    "\n",
    "\n",
    "# Add some text for labels, title and custom x-axis tick labels, etc.\n",
    "ax.set_ylabel('Counts',fontsize=14)\n",
    "ax.set_xlabel('IV fluid (mL/4h)',fontsize=14)\n",
    "ax.set_title('IV fluid administration counts by different policies',fontsize=14, fontweight='bold')\n",
    "ax.set_xticks(x)\n",
    "ax.set_xticklabels(labels)\n",
    "ax.legend()\n",
    "\n",
    "plt.show()"
   ]
  },
  {
   "cell_type": "code",
   "execution_count": 10,
   "id": "3b9efcbe",
   "metadata": {},
   "outputs": [
    {
     "data": {
      "image/png": "[encoded data removed]",
      "text/plain": [
       "<Figure size 576x576 with 1 Axes>"
      ]
     },
     "metadata": {
      "needs_background": "light"
     },
     "output_type": "display_data"
    }
   ],
   "source": [
    "import matplotlib\n",
    "import matplotlib.pyplot as plt\n",
    "import numpy as np\n",
    "\n",
    "#plt.figure(figsize=(10, 10))\n",
    "\n",
    "labels = ['0', '0-0.09', '0.09-0.2', '0.2-0.5', '>0.5']\n",
    "vaso=df_action.vaso.value_counts().sort_index().tolist()\n",
    "vaso_ai=df_action.vaso_ai.value_counts().sort_index().tolist()\n",
    "vaso_intm1=df_action.vaso_intm1.value_counts().sort_index().tolist()\n",
    "vaso_intm2=df_action.vaso_intm2.value_counts().sort_index().tolist()\n",
    "vaso_intm3=df_action.vaso_intm3.value_counts().sort_index().tolist()\n",
    "vaso_vaso1=df_action.vaso_vaso1.value_counts().sort_index().tolist()\n",
    "vaso_vaso2=df_action.vaso_vaso2.value_counts().sort_index().tolist()\n",
    "vaso_vaso3=df_action.vaso_vaso3.value_counts().sort_index().tolist()\n",
    "\n",
    "x = np.arange(len(labels))  # the label locations\n",
    "width = 0.1  # the width of the bars\n",
    "\n",
    "fig, ax = plt.subplots(figsize=(8, 8))\n",
    "rects1 = ax.bar(x - width*4, vaso, width, label='Clinician')\n",
    "rects2 = ax.bar(x - width*3, vaso_ai, width, label='AI')\n",
    "rects3 = ax.bar(x - width*2, vaso_intm1, width, label='AI_intm1')\n",
    "rects4 = ax.bar(x - width, vaso_intm2, width, label='AI_intm2')\n",
    "rects4 = ax.bar(x, vaso_intm3, width, label='AI_intm3')\n",
    "rects5 = ax.bar(x + width, vaso_vaso3, width, label='AI_vaso1')\n",
    "rects4 = ax.bar(x + width*2, vaso_vaso2, width, label='AI_vaso2')\n",
    "rects5 = ax.bar(x + width*3, vaso_vaso1, width, label='AI_vaso3')\n",
    "\n",
    "\n",
    "# Add some text for labels, title and custom x-axis tick labels, etc.\n",
    "ax.set_ylabel('Counts',fontsize=14)\n",
    "ax.set_xlabel('Vasopressor (mcg/kg/min)',fontsize=14)\n",
    "ax.set_title('Vasopressor administration counts by different policies',fontsize=14, fontweight='bold')\n",
    "ax.set_xticks(x)\n",
    "ax.set_xticklabels(labels)\n",
    "ax.legend()\n",
    "\n",
    "plt.show()"
   ]
  },
  {
   "cell_type": "code",
   "execution_count": 14,
   "id": "c46d99d0",
   "metadata": {},
   "outputs": [
    {
     "data": {
      "text/plain": [
       "0    0.468486\n",
       "1    0.107393\n",
       "2    0.157689\n",
       "3    0.101413\n",
       "4    0.165019\n",
       "Name: iv, dtype: float64"
      ]
     },
     "execution_count": 14,
     "metadata": {},
     "output_type": "execute_result"
    }
   ],
   "source": [
    "(df_action.iv.value_counts()/df_action.shape[0]).sort_index()"
   ]
  },
  {
   "cell_type": "code",
   "execution_count": 15,
   "id": "d04e6ac1",
   "metadata": {},
   "outputs": [
    {
     "data": {
      "text/plain": [
       "0    0.854849\n",
       "1    0.038385\n",
       "2    0.029271\n",
       "3    0.043143\n",
       "4    0.034351\n",
       "Name: vaso, dtype: float64"
      ]
     },
     "execution_count": 15,
     "metadata": {},
     "output_type": "execute_result"
    }
   ],
   "source": [
    "(df_action.vaso.value_counts()/df_action.shape[0]).sort_index()"
   ]
  },
  {
   "cell_type": "code",
   "execution_count": 16,
   "id": "6fdb28ce",
   "metadata": {},
   "outputs": [
    {
     "data": {
      "text/plain": [
       "0    0.466911\n",
       "1    0.081529\n",
       "2    0.197618\n",
       "3    0.099291\n",
       "4    0.154651\n",
       "Name: iv_ai, dtype: float64"
      ]
     },
     "execution_count": 16,
     "metadata": {},
     "output_type": "execute_result"
    }
   ],
   "source": [
    "(df_action.iv_ai.value_counts()/df_action.shape[0]).sort_index()"
   ]
  },
  {
   "cell_type": "code",
   "execution_count": 17,
   "id": "aac18e41",
   "metadata": {},
   "outputs": [
    {
     "data": {
      "text/plain": [
       "0    0.891129\n",
       "1    0.022986\n",
       "2    0.023710\n",
       "3    0.027921\n",
       "4    0.034254\n",
       "Name: vaso_ai, dtype: float64"
      ]
     },
     "execution_count": 17,
     "metadata": {},
     "output_type": "execute_result"
    }
   ],
   "source": [
    "(df_action.vaso_ai.value_counts()/df_action.shape[0]).sort_index()"
   ]
  },
  {
   "cell_type": "code",
   "execution_count": 18,
   "id": "10e9e772",
   "metadata": {},
   "outputs": [
    {
     "data": {
      "text/plain": [
       "0    0.892431\n",
       "1    0.023501\n",
       "2    0.025928\n",
       "3    0.027407\n",
       "4    0.030734\n",
       "Name: vaso_intm1, dtype: float64"
      ]
     },
     "execution_count": 18,
     "metadata": {},
     "output_type": "execute_result"
    }
   ],
   "source": [
    "(df_action.vaso_intm1.value_counts()/df_action.shape[0]).sort_index()"
   ]
  },
  {
   "cell_type": "code",
   "execution_count": 19,
   "id": "f5a2534e",
   "metadata": {},
   "outputs": [
    {
     "data": {
      "text/plain": [
       "0    0.455177\n",
       "1    0.079745\n",
       "2    0.205285\n",
       "3    0.100931\n",
       "4    0.158863\n",
       "Name: iv_intm1, dtype: float64"
      ]
     },
     "execution_count": 19,
     "metadata": {},
     "output_type": "execute_result"
    }
   ],
   "source": [
    "(df_action.iv_intm1.value_counts()/df_action.shape[0]).sort_index()"
   ]
  },
  {
   "cell_type": "code",
   "execution_count": 20,
   "id": "bd2cab94",
   "metadata": {},
   "outputs": [
    {
     "data": {
      "text/plain": [
       "0    0.887512\n",
       "1    0.025237\n",
       "2    0.024385\n",
       "3    0.029480\n",
       "4    0.033386\n",
       "Name: vaso_intm2, dtype: float64"
      ]
     },
     "execution_count": 20,
     "metadata": {},
     "output_type": "execute_result"
    }
   ],
   "source": [
    "(df_action.vaso_intm2.value_counts()/df_action.shape[0]).sort_index()"
   ]
  },
  {
   "cell_type": "code",
   "execution_count": 21,
   "id": "013d14c1",
   "metadata": {},
   "outputs": [
    {
     "data": {
      "text/plain": [
       "0    0.445934\n",
       "1    0.080565\n",
       "2    0.209529\n",
       "3    0.106058\n",
       "4    0.157914\n",
       "Name: iv_intm2, dtype: float64"
      ]
     },
     "execution_count": 21,
     "metadata": {},
     "output_type": "execute_result"
    }
   ],
   "source": [
    "(df_action.iv_intm2.value_counts()/df_action.shape[0]).sort_index()"
   ]
  },
  {
   "cell_type": "code",
   "execution_count": 22,
   "id": "ddf5d3e0",
   "metadata": {
    "scrolled": true
   },
   "outputs": [
    {
     "data": {
      "text/plain": [
       "0    0.889827\n",
       "1    0.025912\n",
       "2    0.026571\n",
       "3    0.027680\n",
       "4    0.030011\n",
       "Name: vaso_intm3, dtype: float64"
      ]
     },
     "execution_count": 22,
     "metadata": {},
     "output_type": "execute_result"
    }
   ],
   "source": [
    "(df_action.vaso_intm3.value_counts()/df_action.shape[0]).sort_index()"
   ]
  },
  {
   "cell_type": "code",
   "execution_count": 23,
   "id": "49de458d",
   "metadata": {},
   "outputs": [
    {
     "data": {
      "text/plain": [
       "0    0.452862\n",
       "1    0.078716\n",
       "2    0.208163\n",
       "3    0.102056\n",
       "4    0.158204\n",
       "Name: iv_intm3, dtype: float64"
      ]
     },
     "execution_count": 23,
     "metadata": {},
     "output_type": "execute_result"
    }
   ],
   "source": [
    "(df_action.iv_intm3.value_counts()/df_action.shape[0]).sort_index()"
   ]
  },
  {
   "cell_type": "code",
   "execution_count": 24,
   "id": "6a15e471",
   "metadata": {},
   "outputs": [
    {
     "data": {
      "text/plain": [
       "0    0.904213\n",
       "1    0.024722\n",
       "2    0.023452\n",
       "3    0.024754\n",
       "4    0.022858\n",
       "Name: vaso_vaso1, dtype: float64"
      ]
     },
     "execution_count": 24,
     "metadata": {},
     "output_type": "execute_result"
    }
   ],
   "source": [
    "(df_action.vaso_vaso1.value_counts()/df_action.shape[0]).sort_index()"
   ]
  },
  {
   "cell_type": "code",
   "execution_count": 25,
   "id": "9d289baa",
   "metadata": {},
   "outputs": [
    {
     "data": {
      "text/plain": [
       "0    0.502114\n",
       "1    0.062610\n",
       "2    0.186366\n",
       "3    0.091286\n",
       "4    0.157625\n",
       "Name: iv_vaso1, dtype: float64"
      ]
     },
     "execution_count": 25,
     "metadata": {},
     "output_type": "execute_result"
    }
   ],
   "source": [
    "(df_action.iv_vaso1.value_counts()/df_action.shape[0]).sort_index()"
   ]
  },
  {
   "cell_type": "code",
   "execution_count": 26,
   "id": "8283a42a",
   "metadata": {},
   "outputs": [
    {
     "data": {
      "text/plain": [
       "0    0.902381\n",
       "1    0.026458\n",
       "2    0.025301\n",
       "3    0.023147\n",
       "4    0.022713\n",
       "Name: vaso_vaso2, dtype: float64"
      ]
     },
     "execution_count": 26,
     "metadata": {},
     "output_type": "execute_result"
    }
   ],
   "source": [
    "(df_action.vaso_vaso2.value_counts()/df_action.shape[0]).sort_index()"
   ]
  },
  {
   "cell_type": "code",
   "execution_count": 27,
   "id": "de90c22b",
   "metadata": {},
   "outputs": [
    {
     "data": {
      "text/plain": [
       "0    0.493128\n",
       "1    0.068750\n",
       "2    0.185819\n",
       "3    0.090048\n",
       "4    0.162254\n",
       "Name: iv_vaso2, dtype: float64"
      ]
     },
     "execution_count": 27,
     "metadata": {},
     "output_type": "execute_result"
    }
   ],
   "source": [
    "(df_action.iv_vaso2.value_counts()/df_action.shape[0]).sort_index()"
   ]
  },
  {
   "cell_type": "code",
   "execution_count": 28,
   "id": "4fc4a671",
   "metadata": {},
   "outputs": [
    {
     "data": {
      "text/plain": [
       "0    0.483050\n",
       "1    0.072977\n",
       "2    0.192988\n",
       "3    0.094244\n",
       "4    0.156741\n",
       "Name: iv_vaso3, dtype: float64"
      ]
     },
     "execution_count": 28,
     "metadata": {},
     "output_type": "execute_result"
    }
   ],
   "source": [
    "(df_action.iv_vaso3.value_counts()/df_action.shape[0]).sort_index()"
   ]
  },
  {
   "cell_type": "code",
   "execution_count": 29,
   "id": "d2748abd",
   "metadata": {},
   "outputs": [
    {
     "data": {
      "text/plain": [
       "0    0.895228\n",
       "1    0.024947\n",
       "2    0.022906\n",
       "3    0.028644\n",
       "4    0.028275\n",
       "Name: vaso_vaso3, dtype: float64"
      ]
     },
     "execution_count": 29,
     "metadata": {},
     "output_type": "execute_result"
    }
   ],
   "source": [
    "(df_action.vaso_vaso3.value_counts()/df_action.shape[0]).sort_index()"
   ]
  },
  {
   "cell_type": "code",
   "execution_count": null,
   "id": "624354a1",
   "metadata": {},
   "outputs": [],
   "source": []
  }
 ],
 "metadata": {
  "kernelspec": {
   "display_name": "myenv",
   "language": "python",
   "name": "myenv"
  },
  "language_info": {
   "codemirror_mode": {
    "name": "ipython",
    "version": 3
   },
   "file_extension": ".py",
   "mimetype": "text/x-python",
   "name": "python",
   "nbconvert_exporter": "python",
   "pygments_lexer": "ipython3",
   "version": "3.7.1"
  }
 },
 "nbformat": 4,
 "nbformat_minor": 5
}
