{
 "cells": [
  {
   "cell_type": "code",
   "execution_count": 33,
   "id": "3da094f9",
   "metadata": {},
   "outputs": [],
   "source": [
    "import pandas as pd\n",
    "\n",
    "ai_p= pd.read_csv(r\"data_noshuffle\\ai_p.csv\")\n",
    "ai_p = ai_p.reset_index()\n",
    "#Rand_p=pd.read_csv(r\"data_noshuffle\\Rand_p.csv\")\n",
    "#Rand_p = Rand_p.reset_index()\n",
    "intm1_p=pd.read_csv(r\"data_noshuffle\\intm1_p.csv\")\n",
    "intm1_p = intm1_p.reset_index()\n",
    "intm2_p=pd.read_csv(r\"data_noshuffle\\intm2_p.csv\")\n",
    "intm2_p = intm2_p.reset_index()\n",
    "vaso1_p=pd.read_csv(r\"data_noshuffle\\vaso1_p.csv\")\n",
    "vaso1_p = vaso1_p.reset_index()\n",
    "vaso2_p=pd.read_csv(r\"data_noshuffle\\vaso2_p.csv\")\n",
    "vaso2_p = vaso2_p.reset_index()\n",
    "vaso3_p=pd.read_csv(r\"data_noshuffle\\vaso3_p.csv\")\n",
    "vaso3_p = vaso3_p.reset_index()\n",
    "ai_p_new=pd.read_csv(r\"data_noshuffle\\ai_p_new.csv\")\n",
    "ai_p_new = ai_p_new.reset_index()\n",
    "intm1_p_new=pd.read_csv(r\"data_noshuffle\\intm1_p_new.csv\")\n",
    "intm1_p_new = intm1_p_new.reset_index()\n",
    "intm2_p_new=pd.read_csv(r\"data_noshuffle\\intm2_p_new.csv\")\n",
    "intm2_p_new = intm2_p_new.reset_index()\n",
    "vaso1_p_new=pd.read_csv(r\"data_noshuffle\\vaso1_p_new.csv\")\n",
    "vaso1_p_new = vaso1_p_new.reset_index()\n",
    "vaso2_p_new=pd.read_csv(r\"data_noshuffle\\vaso2_p_new.csv\")\n",
    "vaso2_p_new = vaso2_p_new.reset_index()\n",
    "vaso3_p_new=pd.read_csv(r\"data_noshuffle\\vaso3_p_new.csv\")\n",
    "vaso3_p_new = vaso3_p_new.reset_index()\n",
    "\n",
    "intm3_p= pd.read_csv(r\"data_noshuffle\\intm3_p.csv\")\n",
    "intm3_p = intm3_p.reset_index()\n",
    "intm3_p_new= pd.read_csv(r\"data_noshuffle\\intm3_p_new.csv\")\n",
    "intm3_p_new = intm3_p_new.reset_index()"
   ]
  },
  {
   "cell_type": "code",
   "execution_count": 16,
   "id": "4edcea01",
   "metadata": {},
   "outputs": [],
   "source": [
    "def find_optaction(policy):\n",
    "  policy.columns = [\"state\",1,2,3,4,5,6,7,8,9,10,11,12,13,14,15,16,17,18,19,20,21,22,23,24,25]\n",
    "  policy['action'] = 0\n",
    "  policy.state = policy.state+1\n",
    "  for i in policy.index:\n",
    "    policy.iloc[i,26]=policy.iloc[i,1:26].idxmax()\n",
    "#ai_optimal = ai_optimal[[\"state\",\"action\"]]\n",
    "  return policy"
   ]
  },
  {
   "cell_type": "code",
   "execution_count": 35,
   "id": "0542adaf",
   "metadata": {},
   "outputs": [],
   "source": [
    "ai_p = find_optaction(ai_p)\n",
    "intm1_p = find_optaction(intm1_p)\n",
    "intm2_p = find_optaction(intm2_p)\n",
    "vaso1_p = find_optaction(vaso1_p)\n",
    "vaso2_p = find_optaction(vaso2_p)\n",
    "vaso3_p = find_optaction(vaso3_p)\n",
    "ai_p_new = find_optaction(ai_p_new)\n",
    "intm1_p_new = find_optaction(intm1_p_new)\n",
    "intm2_p_new = find_optaction(intm2_p_new)\n",
    "vaso1_p_new = find_optaction(vaso1_p_new)\n",
    "vaso2_p_new = find_optaction(vaso2_p_new)\n",
    "vaso3_p_new = find_optaction(vaso3_p_new)\n",
    "\n",
    "intm3_p = find_optaction(intm3_p)\n",
    "intm3_p_new = find_optaction(intm3_p_new)"
   ]
  },
  {
   "cell_type": "code",
   "execution_count": 36,
   "id": "28d92673",
   "metadata": {},
   "outputs": [],
   "source": [
    "ai_p.to_csv(r\"data_noshuffle\\ai_opt.csv\", index=False)\n",
    "intm1_p.to_csv(r\"data_noshuffle\\intm1_opt.csv\", index=False)\n",
    "intm2_p.to_csv(r\"data_noshuffle\\intm2_opt.csv\", index=False)\n",
    "vaso1_p.to_csv(r\"data_noshuffle\\vaso1_opt.csv\", index=False)\n",
    "vaso2_p.to_csv(r\"data_noshuffle\\vaso2_opt.csv\", index=False)\n",
    "vaso3_p.to_csv(r\"data_noshuffle\\vaso3_opt.csv\", index=False)\n",
    "ai_p_new.to_csv(r\"data_noshuffle\\ai_opt_new.csv\", index=False)\n",
    "intm1_p_new.to_csv(r\"data_noshuffle\\intm1_opt_new.csv\", index=False)\n",
    "intm2_p_new.to_csv(r\"data_noshuffle\\intm2_opt_new.csv\", index=False)\n",
    "vaso1_p_new.to_csv(r\"data_noshuffle\\vaso1_opt_new.csv\", index=False)\n",
    "vaso2_p_new.to_csv(r\"data_noshuffle\\vaso2_opt_new.csv\", index=False)\n",
    "vaso3_p_new.to_csv(r\"data_noshuffle\\vaso3_opt_new.csv\", index=False)"
   ]
  },
  {
   "cell_type": "code",
   "execution_count": 18,
   "id": "09812125",
   "metadata": {},
   "outputs": [],
   "source": [
    "intm3_p_new.to_csv(r\"data_noshuffle\\intm3_opt_new.csv\", index=False)\n",
    "intm3_p.to_csv(r\"data_noshuffle\\intm3_opt.csv\", index=False)"
   ]
  },
  {
   "cell_type": "code",
   "execution_count": null,
   "id": "f75d29af",
   "metadata": {},
   "outputs": [],
   "source": []
  }
 ],
 "metadata": {
  "kernelspec": {
   "display_name": "Python 3 (ipykernel)",
   "language": "python",
   "name": "python3"
  },
  "language_info": {
   "codemirror_mode": {
    "name": "ipython",
    "version": 3
   },
   "file_extension": ".py",
   "mimetype": "text/x-python",
   "name": "python",
   "nbconvert_exporter": "python",
   "pygments_lexer": "ipython3",
   "version": "3.7.1"
  }
 },
 "nbformat": 4,
 "nbformat_minor": 5
}
